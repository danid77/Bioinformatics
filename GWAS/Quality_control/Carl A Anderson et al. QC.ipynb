{
 "cells": [
  {
   "attachments": {},
   "cell_type": "markdown",
   "metadata": {},
   "source": []
  },
  {
   "attachments": {},
   "cell_type": "markdown",
   "metadata": {},
   "source": [
    "### Sample QC"
   ]
  },
  {
   "cell_type": "code",
   "execution_count": null,
   "metadata": {},
   "outputs": [],
   "source": []
  },
  {
   "attachments": {},
   "cell_type": "markdown",
   "metadata": {},
   "source": [
    "### SNP QC"
   ]
  },
  {
   "attachments": {},
   "cell_type": "markdown",
   "metadata": {},
   "source": [
    "SNP call rate : SNP 발현 여부 비율 확인"
   ]
  },
  {
   "cell_type": "code",
   "execution_count": null,
   "metadata": {},
   "outputs": [],
   "source": [
    "plink --noweb --allow-no-sex --bfile korea_sampleQC_final --geno 0.02 --make-bed --out korea_snpQC_geno"
   ]
  },
  {
   "attachments": {},
   "cell_type": "markdown",
   "metadata": {},
   "source": [
    "Differential missingness"
   ]
  },
  {
   "cell_type": "code",
   "execution_count": null,
   "metadata": {},
   "outputs": [],
   "source": [
    "plink --noweb --allow-no-sex --bfile korea_snpQC_geno --test-missing"
   ]
  },
  {
   "cell_type": "code",
   "execution_count": null,
   "metadata": {},
   "outputs": [],
   "source": [
    "cat plink.missing | awk '$5 < 0.00001 {print $2}' > test_missing.snps"
   ]
  },
  {
   "cell_type": "code",
   "execution_count": null,
   "metadata": {},
   "outputs": [],
   "source": [
    "plink --noweb --allow-no-sex --bfile korea_snpQC_geno --exclude test_missing.snps --make-bed --out korea_snpQC_genot_rel"
   ]
  },
  {
   "attachments": {},
   "cell_type": "markdown",
   "metadata": {},
   "source": [
    "MAF"
   ]
  },
  {
   "cell_type": "code",
   "execution_count": null,
   "metadata": {},
   "outputs": [],
   "source": [
    "plink --noweb --allow-no-sex --bfile korea_snpQC_geno_rel --maf 0.01 --make-bed --out korea_snpQC_geno_rel_maf"
   ]
  },
  {
   "attachments": {},
   "cell_type": "markdown",
   "metadata": {},
   "source": [
    "HWE"
   ]
  },
  {
   "cell_type": "code",
   "execution_count": null,
   "metadata": {},
   "outputs": [],
   "source": [
    "cat korea_snpQC_geno_rel_maf.fam | awk '$6==\"1\"' > Control.sample"
   ]
  },
  {
   "cell_type": "code",
   "execution_count": null,
   "metadata": {},
   "outputs": [],
   "source": [
    "cat korea_snpQC_geno_rel_maf.fam | awk '$6==\"2\"' > Case.sample"
   ]
  },
  {
   "cell_type": "code",
   "execution_count": null,
   "metadata": {},
   "outputs": [],
   "source": [
    "plink --noweb --allow-no-sex --bfile korea_snpQC_geno_rel_maf --keep Control.sample --make-bed --out Control"
   ]
  },
  {
   "cell_type": "code",
   "execution_count": null,
   "metadata": {},
   "outputs": [],
   "source": [
    "plink --noweb --allow-no-sex --bfile korea_snpQC_geno_rel_maf --keep Case.sample --make-bed --out Case"
   ]
  },
  {
   "cell_type": "code",
   "execution_count": null,
   "metadata": {},
   "outputs": [],
   "source": [
    "plink --noweb --allow-no-sex --bfile Control --hwe 0.00001 --make-bed --out Control_hwe"
   ]
  },
  {
   "cell_type": "code",
   "execution_count": null,
   "metadata": {},
   "outputs": [],
   "source": [
    "plink --noweb --allow-no-sex --bfile Case --hwe 0.00000005 --make-bed --out Case_hwe"
   ]
  },
  {
   "cell_type": "code",
   "execution_count": null,
   "metadata": {},
   "outputs": [],
   "source": [
    "R --vanilla --args Case_hwe.bim Control_hwe.bim < Path/To/Common_hwe.R\n",
    "\n",
    "Common_hwe.R -> Common_hwe_inner.R -> merge 진행"
   ]
  },
  {
   "cell_type": "code",
   "execution_count": null,
   "metadata": {},
   "outputs": [],
   "source": [
    "plink --noweb --allow-no-sex --bfile korea_snpQC_geno_rel_maf --extract Common_hwe_SNPs.txt --make-bed --out korea_snpQC_geno_rel_maf_hwe"
   ]
  }
 ],
 "metadata": {
  "language_info": {
   "name": "python"
  },
  "orig_nbformat": 4
 },
 "nbformat": 4,
 "nbformat_minor": 2
}
